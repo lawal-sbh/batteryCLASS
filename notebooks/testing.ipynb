{
 "cells": [
  {
   "cell_type": "code",
   "execution_count": null,
   "id": "77091e36",
   "metadata": {},
   "outputs": [],
   "source": [
    "# Cell 1: Import your battery\n",
    "import sys\n",
    "sys.path.append('../src')  # Point to your source code\n",
    "from battery_model import Battery\n",
    "\n",
    "# Cell 2: Test different scenarios\n",
    "battery1 = Battery(\"Small_Battery\", 10, 20)  # 10MW, 20MWh\n",
    "battery2 = Battery(\"Large_Battery\", 100, 200)  # 100MW, 200MWh\n",
    "\n",
    "print(\"Small battery status:\", battery1.get_status())\n",
    "print(\"Large battery status:\", battery2.get_status())\n",
    "\n",
    "# Cell 3: Test trading logic\n",
    "def simple_trading_strategy(battery, current_price):\n",
    "    if current_price < 40:\n",
    "        battery.charge(battery.max_power, 1)\n",
    "        print(f\"Charging at price £{current_price}/MWh\")\n",
    "    elif current_price > 80:\n",
    "        battery.discharge(battery.max_power, 1)\n",
    "        print(f\"Discharging at price £{current_price}/MWh\")\n",
    "\n",
    "# Test with different prices\n",
    "simple_trading_strategy(battery1, 35)\n",
    "simple_trading_strategy(battery1, 90)\n",
    "print(\"Final SOC:\", battery1.soc)"
   ]
  }
 ],
 "metadata": {
  "language_info": {
   "name": "python"
  }
 },
 "nbformat": 4,
 "nbformat_minor": 5
}
